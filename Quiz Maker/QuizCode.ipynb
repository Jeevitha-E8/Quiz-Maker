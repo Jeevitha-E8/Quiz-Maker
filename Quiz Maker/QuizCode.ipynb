{
 "cells": [
  {
   "cell_type": "markdown",
   "id": "35f2a9a3",
   "metadata": {},
   "source": [
    "### Quiz Maker"
   ]
  },
  {
   "cell_type": "markdown",
   "id": "0adff141",
   "metadata": {},
   "source": [
    "> Some Example Questions"
   ]
  },
  {
   "cell_type": "code",
   "execution_count": 7,
   "id": "2b37725f",
   "metadata": {
    "scrolled": true
   },
   "outputs": [],
   "source": [
    "Q1=\"\"\"What is the capital of India?\n",
    "a)NewDelhi b)Kolkatta c)Mumbai d)None\"\"\"\n",
    "\n",
    "Q2=\"\"\"Where is Hyderabad located?\n",
    "a)Andhrapradesh b)Telangana c)Tamilnadu d)Maharastra\"\"\"\n",
    "\n",
    "Q3=\"\"\"What is the output for print(\"Hello World!\")?\n",
    "a)Hello b)World c)HelloWorld! d)Hello World!\"\"\""
   ]
  },
  {
   "cell_type": "code",
   "execution_count": 14,
   "id": "0b177340",
   "metadata": {},
   "outputs": [
    {
     "name": "stdout",
     "output_type": "stream",
     "text": [
      "Enter your name: Jeevitha\n",
      "What is the capital of India?\n",
      "a)NewDelhi b)Kolkatta c)Mumbai d)None\n",
      "Skip (y/n) N\n",
      "Enter the option a/b/c/d: a\n",
      "Where is Hyderabad located?\n",
      "a)Andhrapradesh b)Telangana c)Tamilnadu d)Maharastra\n",
      "Skip (y/n) y\n",
      "What is the output for print(\"Hello World!\")?\n",
      "a)Hello b)World c)HelloWorld! d)Hello World!\n",
      "Skip (y/n) n\n",
      "Enter the option a/b/c/d: d\n",
      "Jeevitha your score is 2\n"
     ]
    }
   ],
   "source": [
    "questions={Q1:\"a\",Q2:\"b\",Q3:\"d\"}\n",
    "score=0\n",
    "name=input(\"Enter your name: \")\n",
    "for i in questions:\n",
    "    print(i)\n",
    "    flag=input(\"Skip (y/n) \")\n",
    "    if flag.lower()==\"y\":\n",
    "        continue\n",
    "    ans=input(\"Enter the option a/b/c/d: \")\n",
    "    if ans==questions[i]:\n",
    "        score+=1\n",
    "print(\"{} your score is {}\".format(name,score))\n"
   ]
  },
  {
   "cell_type": "markdown",
   "id": "6e66d91b",
   "metadata": {},
   "source": [
    "### Thank You!"
   ]
  }
 ],
 "metadata": {
  "kernelspec": {
   "display_name": "Python 3",
   "language": "python",
   "name": "python3"
  },
  "language_info": {
   "codemirror_mode": {
    "name": "ipython",
    "version": 3
   },
   "file_extension": ".py",
   "mimetype": "text/x-python",
   "name": "python",
   "nbconvert_exporter": "python",
   "pygments_lexer": "ipython3",
   "version": "3.8.8"
  }
 },
 "nbformat": 4,
 "nbformat_minor": 5
}
